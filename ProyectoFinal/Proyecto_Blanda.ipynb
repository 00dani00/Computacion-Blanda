{
  "nbformat": 4,
  "nbformat_minor": 0,
  "metadata": {
    "colab": {
      "name": "Proyecto_Blanda",
      "provenance": [],
      "toc_visible": true
    },
    "kernelspec": {
      "name": "python3",
      "display_name": "Python 3"
    },
    "language_info": {
      "name": "python"
    }
  },
  "cells": [
    {
      "cell_type": "code",
      "metadata": {
        "id": "ZAHaWifpzSVx"
      },
      "source": [
        "pip install spanish-sentiment-analysis\n"
      ],
      "execution_count": null,
      "outputs": []
    },
    {
      "cell_type": "code",
      "metadata": {
        "id": "oxS8eR7cJ5xy",
        "colab": {
          "base_uri": "https://localhost:8080/"
        },
        "outputId": "3d542807-6140-4c87-bede-8a34a3f19959"
      },
      "source": [
        "pip install -U scikit-learn==0.19.2"
      ],
      "execution_count": 9,
      "outputs": [
        {
          "output_type": "stream",
          "name": "stdout",
          "text": [
            "Requirement already satisfied: scikit-learn==0.19.2 in /usr/local/lib/python3.7/dist-packages (0.19.2)\n"
          ]
        }
      ]
    },
    {
      "cell_type": "code",
      "metadata": {
        "id": "DWvl3A_7J563",
        "colab": {
          "base_uri": "https://localhost:8080/"
        },
        "outputId": "22267e74-c4d2-4e6d-c5f5-085610a07b48"
      },
      "source": [
        "pip install nltk"
      ],
      "execution_count": null,
      "outputs": [
        {
          "output_type": "stream",
          "name": "stdout",
          "text": [
            "Requirement already satisfied: nltk in /usr/local/lib/python3.7/dist-packages (3.2.5)\n",
            "Requirement already satisfied: six in /usr/local/lib/python3.7/dist-packages (from nltk) (1.15.0)\n"
          ]
        }
      ]
    },
    {
      "cell_type": "code",
      "metadata": {
        "id": "lvhZ9xbl1lTY"
      },
      "source": [
        "import nltk"
      ],
      "execution_count": 10,
      "outputs": []
    },
    {
      "cell_type": "code",
      "metadata": {
        "id": "ZRECyG_B3MVf"
      },
      "source": [
        "from sentiment_analysis_spanish import sentiment_analysis"
      ],
      "execution_count": 11,
      "outputs": []
    },
    {
      "cell_type": "code",
      "metadata": {
        "id": "uIQqTeJGze-j",
        "colab": {
          "base_uri": "https://localhost:8080/"
        },
        "outputId": "4adf0fad-796c-43b4-aad1-5a0932d59f36"
      },
      "source": [
        "from classifier import SentimentClassifier\n",
        "\n",
        "\n",
        "clf = SentimentClassifier()\n",
        "\n",
        "x = \"Esta muy buena esa pelicula\"\n",
        "\n",
        "y = \"Que horrible comida!!!\"\n",
        "\n",
        "z = \"Tuve una experiencia neutral\"\n",
        "\n",
        "#sentimiento = clf.predict(x)\n",
        "#sentimiento = clf.predict(y)\n",
        "sentimiento = clf.predict(z)\n",
        "\n",
        "print(sentimiento)"
      ],
      "execution_count": 13,
      "outputs": [
        {
          "output_type": "stream",
          "name": "stdout",
          "text": [
            "0.24508604721058735\n"
          ]
        }
      ]
    },
    {
      "cell_type": "code",
      "metadata": {
        "id": "7-XSYVIPIfrT",
        "colab": {
          "base_uri": "https://localhost:8080/"
        },
        "outputId": "c4b05620-af11-47bb-a6d9-1a50a021e7d3"
      },
      "source": [
        " pip install -U textblob"
      ],
      "execution_count": 14,
      "outputs": [
        {
          "output_type": "stream",
          "name": "stdout",
          "text": [
            "Requirement already satisfied: textblob in /usr/local/lib/python3.7/dist-packages (0.17.1)\n",
            "Requirement already satisfied: nltk>=3.1 in /usr/local/lib/python3.7/dist-packages (from textblob) (3.2.5)\n",
            "Requirement already satisfied: six in /usr/local/lib/python3.7/dist-packages (from nltk>=3.1->textblob) (1.15.0)\n"
          ]
        }
      ]
    },
    {
      "cell_type": "code",
      "metadata": {
        "id": "eUkrnHQDOWPw",
        "colab": {
          "base_uri": "https://localhost:8080/"
        },
        "outputId": "a29a0f19-6a2a-491c-a532-038fde4f69c8"
      },
      "source": [
        "pip install translate"
      ],
      "execution_count": 15,
      "outputs": [
        {
          "output_type": "stream",
          "name": "stdout",
          "text": [
            "Requirement already satisfied: translate in /usr/local/lib/python3.7/dist-packages (3.6.1)\n",
            "Requirement already satisfied: click in /usr/local/lib/python3.7/dist-packages (from translate) (7.1.2)\n",
            "Requirement already satisfied: libretranslatepy==2.1.1 in /usr/local/lib/python3.7/dist-packages (from translate) (2.1.1)\n",
            "Requirement already satisfied: requests in /usr/local/lib/python3.7/dist-packages (from translate) (2.23.0)\n",
            "Requirement already satisfied: lxml in /usr/local/lib/python3.7/dist-packages (from translate) (4.2.6)\n",
            "Requirement already satisfied: idna<3,>=2.5 in /usr/local/lib/python3.7/dist-packages (from requests->translate) (2.10)\n",
            "Requirement already satisfied: urllib3!=1.25.0,!=1.25.1,<1.26,>=1.21.1 in /usr/local/lib/python3.7/dist-packages (from requests->translate) (1.24.3)\n",
            "Requirement already satisfied: certifi>=2017.4.17 in /usr/local/lib/python3.7/dist-packages (from requests->translate) (2021.10.8)\n",
            "Requirement already satisfied: chardet<4,>=3.0.2 in /usr/local/lib/python3.7/dist-packages (from requests->translate) (3.0.4)\n"
          ]
        }
      ]
    },
    {
      "cell_type": "code",
      "metadata": {
        "id": "H_B2a5DRIz-n",
        "colab": {
          "base_uri": "https://localhost:8080/"
        },
        "outputId": "d8acdc54-b04a-40db-dff0-1599ac4ec5a0"
      },
      "source": [
        "from textblob import TextBlob\n",
        "t=TextBlob(\"Esta muy mala esa pelicula\")\n",
        "ten=t.translate(to=\"en\")\n",
        "print(ten)\n",
        "res = ten.sentiment[0]\n",
        "print(res)\n",
        "if(res<-0.5):\n",
        "  print(\"texto negativo\")\n"
      ],
      "execution_count": 18,
      "outputs": [
        {
          "output_type": "stream",
          "name": "stdout",
          "text": [
            "That movie is very bad\n",
            "-0.9099999999999998\n",
            "texto negativo\n"
          ]
        }
      ]
    },
    {
      "cell_type": "code",
      "metadata": {
        "id": "NMlvpZQYq5EJ"
      },
      "source": [
        "#Install and import the pipeline of transformers\n",
        "!pip install transformers"
      ],
      "execution_count": null,
      "outputs": []
    },
    {
      "cell_type": "code",
      "metadata": {
        "id": "VqSzOdfHrAUC"
      },
      "source": [
        "from transformers import pipeline"
      ],
      "execution_count": 20,
      "outputs": []
    },
    {
      "cell_type": "code",
      "metadata": {
        "id": "-oOQdGy1rFtV",
        "colab": {
          "base_uri": "https://localhost:8080/"
        },
        "outputId": "03f7c3f5-2a17-40d7-bbf7-ad524bda29f9"
      },
      "source": [
        "# Get thetask-specific pipeline\n",
        "my_model=pipeline(task=\"question-answering\")\n",
        "\n",
        "context = r\"\"\" Harry Potter is the best book series according to many people. Harry Potter was written by JK.Rowling .\n",
        "It is afantasy based novel that provides a thrilling experience to readers.\"\"\"\n",
        "\n",
        "# Pass the question and context to the model to obtain answer\n",
        "\n",
        "print(my_model(question=\"What is Harry Potter ?\", context=context))\n",
        "print(my_model(question=\"what is the genre of the book?\", context=context))\n",
        "print(my_model(question=\"Who wrote Harry Potter ?\", context=context))\n",
        "\n",
        "#> {'score': 0.2375375191101107, 'start': 17, 'end': 37, 'answer': 'the best book series'}\n",
        "#> {'score': 0.3054330348968506, 'start': 111, 'end': 131, 'answer': 'afantasy based novel'}\n",
        "#> {'score': 0.9813234768798256, 'start': 92, 'end': 102, 'answer': 'JK.Rowling'}"
      ],
      "execution_count": 22,
      "outputs": [
        {
          "output_type": "stream",
          "name": "stderr",
          "text": [
            "No model was supplied, defaulted to distilbert-base-cased-distilled-squad (https://huggingface.co/distilbert-base-cased-distilled-squad)\n"
          ]
        },
        {
          "output_type": "stream",
          "name": "stdout",
          "text": [
            "{'score': 0.23918195068836212, 'start': 17, 'end': 37, 'answer': 'the best book series'}\n",
            "{'score': 0.3054330348968506, 'start': 111, 'end': 131, 'answer': 'afantasy based novel'}\n",
            "{'score': 0.9813618063926697, 'start': 92, 'end': 102, 'answer': 'JK.Rowling'}\n"
          ]
        }
      ]
    }
  ]
}